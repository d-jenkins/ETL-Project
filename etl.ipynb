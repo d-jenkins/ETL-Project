{
 "metadata": {
  "language_info": {
   "codemirror_mode": {
    "name": "ipython",
    "version": 3
   },
   "file_extension": ".py",
   "mimetype": "text/x-python",
   "name": "python",
   "nbconvert_exporter": "python",
   "pygments_lexer": "ipython3",
   "version": "3.8.5-final"
  },
  "orig_nbformat": 2,
  "kernelspec": {
   "name": "python3",
   "display_name": "Python 3.8.5 64-bit ('base': conda)",
   "metadata": {
    "interpreter": {
     "hash": "dca0ade3e726a953b501b15e8e990130d2b7799f14cfd9f4271676035ebe5511"
    }
   }
  }
 },
 "nbformat": 4,
 "nbformat_minor": 2,
 "cells": [
  {
   "source": [
    "# ETL Project"
   ],
   "cell_type": "markdown",
   "metadata": {}
  },
  {
   "cell_type": "code",
   "execution_count": 1,
   "metadata": {},
   "outputs": [],
   "source": [
    "#Dependencies\n",
    "import pandas as pd\n",
    "from sqlalchemy import create_engine"
   ]
  },
  {
   "source": [
    "## Extract CSVs into DataFrame"
   ],
   "cell_type": "markdown",
   "metadata": {}
  },
  {
   "cell_type": "code",
   "execution_count": 2,
   "metadata": {},
   "outputs": [
    {
     "output_type": "execute_result",
     "data": {
      "text/plain": [
       "   Rank   Restaurant                                            Content  \\\n",
       "0     1   McDonald's                                                NaN   \n",
       "1     2    Starbucks                                                NaN   \n",
       "2     3  Chick-fil-A  While Popeyes got a lot of the chicken buzz in...   \n",
       "3     4    Taco Bell                                                NaN   \n",
       "4     5  Burger King                                                NaN   \n",
       "\n",
       "   Sales YOY_Sales  Units YOY_Units Headquarters             Segment_Category  \n",
       "0  40412      4.9%  13846     -0.5%          NaN       Quick Service & Burger  \n",
       "1  21380      8.6%  15049      3.0%          NaN  Quick Service & Coffee Cafe  \n",
       "2  11320     13.0%   2470      5.0%          NaN      Quick Service & Chicken  \n",
       "3  11293      9.0%   6766      2.7%          NaN      Quick Service & Mexican  \n",
       "4  10204      2.7%   7346      0.2%          NaN       Quick Service & Burger  "
      ],
      "text/html": "<div>\n<style scoped>\n    .dataframe tbody tr th:only-of-type {\n        vertical-align: middle;\n    }\n\n    .dataframe tbody tr th {\n        vertical-align: top;\n    }\n\n    .dataframe thead th {\n        text-align: right;\n    }\n</style>\n<table border=\"1\" class=\"dataframe\">\n  <thead>\n    <tr style=\"text-align: right;\">\n      <th></th>\n      <th>Rank</th>\n      <th>Restaurant</th>\n      <th>Content</th>\n      <th>Sales</th>\n      <th>YOY_Sales</th>\n      <th>Units</th>\n      <th>YOY_Units</th>\n      <th>Headquarters</th>\n      <th>Segment_Category</th>\n    </tr>\n  </thead>\n  <tbody>\n    <tr>\n      <th>0</th>\n      <td>1</td>\n      <td>McDonald's</td>\n      <td>NaN</td>\n      <td>40412</td>\n      <td>4.9%</td>\n      <td>13846</td>\n      <td>-0.5%</td>\n      <td>NaN</td>\n      <td>Quick Service &amp; Burger</td>\n    </tr>\n    <tr>\n      <th>1</th>\n      <td>2</td>\n      <td>Starbucks</td>\n      <td>NaN</td>\n      <td>21380</td>\n      <td>8.6%</td>\n      <td>15049</td>\n      <td>3.0%</td>\n      <td>NaN</td>\n      <td>Quick Service &amp; Coffee Cafe</td>\n    </tr>\n    <tr>\n      <th>2</th>\n      <td>3</td>\n      <td>Chick-fil-A</td>\n      <td>While Popeyes got a lot of the chicken buzz in...</td>\n      <td>11320</td>\n      <td>13.0%</td>\n      <td>2470</td>\n      <td>5.0%</td>\n      <td>NaN</td>\n      <td>Quick Service &amp; Chicken</td>\n    </tr>\n    <tr>\n      <th>3</th>\n      <td>4</td>\n      <td>Taco Bell</td>\n      <td>NaN</td>\n      <td>11293</td>\n      <td>9.0%</td>\n      <td>6766</td>\n      <td>2.7%</td>\n      <td>NaN</td>\n      <td>Quick Service &amp; Mexican</td>\n    </tr>\n    <tr>\n      <th>4</th>\n      <td>5</td>\n      <td>Burger King</td>\n      <td>NaN</td>\n      <td>10204</td>\n      <td>2.7%</td>\n      <td>7346</td>\n      <td>0.2%</td>\n      <td>NaN</td>\n      <td>Quick Service &amp; Burger</td>\n    </tr>\n  </tbody>\n</table>\n</div>"
     },
     "metadata": {},
     "execution_count": 2
    }
   ],
   "source": [
    "#Read in top250 file and view dataframe \n",
    "top250_file = \"data/Top250.csv\"\n",
    "top250 = pd.read_csv(top250_file)\n",
    "top250.head()"
   ]
  },
  {
   "cell_type": "code",
   "execution_count": 3,
   "metadata": {},
   "outputs": [
    {
     "output_type": "execute_result",
     "data": {
      "text/plain": [
       "   Rank   Restaurant                  Location  Sales YOY_Sales  Units  \\\n",
       "0     1   Evergreens            Seattle, Wash.     24    130.5%     26   \n",
       "1     2  Clean Juice           Charlotte, N.C.     44    121.9%    105   \n",
       "2     3     Slapfish  Huntington Beach, Calif.     21     81.0%     21   \n",
       "3     4   Clean Eatz          Wilmington, N.C.     25     79.7%     46   \n",
       "4     5    Pokeworks            Irvine, Calif.     49     77.1%     50   \n",
       "\n",
       "  YOY_Units  Unit_Volume Franchising  \n",
       "0    116.7%         1150          No  \n",
       "1     94.4%          560         Yes  \n",
       "2     90.9%         1370         Yes  \n",
       "3     58.6%          685         Yes  \n",
       "4     56.3%         1210         Yes  "
      ],
      "text/html": "<div>\n<style scoped>\n    .dataframe tbody tr th:only-of-type {\n        vertical-align: middle;\n    }\n\n    .dataframe tbody tr th {\n        vertical-align: top;\n    }\n\n    .dataframe thead th {\n        text-align: right;\n    }\n</style>\n<table border=\"1\" class=\"dataframe\">\n  <thead>\n    <tr style=\"text-align: right;\">\n      <th></th>\n      <th>Rank</th>\n      <th>Restaurant</th>\n      <th>Location</th>\n      <th>Sales</th>\n      <th>YOY_Sales</th>\n      <th>Units</th>\n      <th>YOY_Units</th>\n      <th>Unit_Volume</th>\n      <th>Franchising</th>\n    </tr>\n  </thead>\n  <tbody>\n    <tr>\n      <th>0</th>\n      <td>1</td>\n      <td>Evergreens</td>\n      <td>Seattle, Wash.</td>\n      <td>24</td>\n      <td>130.5%</td>\n      <td>26</td>\n      <td>116.7%</td>\n      <td>1150</td>\n      <td>No</td>\n    </tr>\n    <tr>\n      <th>1</th>\n      <td>2</td>\n      <td>Clean Juice</td>\n      <td>Charlotte, N.C.</td>\n      <td>44</td>\n      <td>121.9%</td>\n      <td>105</td>\n      <td>94.4%</td>\n      <td>560</td>\n      <td>Yes</td>\n    </tr>\n    <tr>\n      <th>2</th>\n      <td>3</td>\n      <td>Slapfish</td>\n      <td>Huntington Beach, Calif.</td>\n      <td>21</td>\n      <td>81.0%</td>\n      <td>21</td>\n      <td>90.9%</td>\n      <td>1370</td>\n      <td>Yes</td>\n    </tr>\n    <tr>\n      <th>3</th>\n      <td>4</td>\n      <td>Clean Eatz</td>\n      <td>Wilmington, N.C.</td>\n      <td>25</td>\n      <td>79.7%</td>\n      <td>46</td>\n      <td>58.6%</td>\n      <td>685</td>\n      <td>Yes</td>\n    </tr>\n    <tr>\n      <th>4</th>\n      <td>5</td>\n      <td>Pokeworks</td>\n      <td>Irvine, Calif.</td>\n      <td>49</td>\n      <td>77.1%</td>\n      <td>50</td>\n      <td>56.3%</td>\n      <td>1210</td>\n      <td>Yes</td>\n    </tr>\n  </tbody>\n</table>\n</div>"
     },
     "metadata": {},
     "execution_count": 3
    }
   ],
   "source": [
    "#Read in future50 file and view dataframe \n",
    "future50_file = \"data/Future50.csv\"\n",
    "future50 = pd.read_csv(future50_file)\n",
    "future50.head()"
   ]
  },
  {
   "cell_type": "code",
   "execution_count": 4,
   "metadata": {},
   "outputs": [
    {
     "output_type": "execute_result",
     "data": {
      "text/plain": [
       "   Rank                           Restaurant       Sales  Average Check  \\\n",
       "0     1             Carmine's (Times Square)  39080335.0             40   \n",
       "1     2                The Boathouse Orlando  35218364.0             43   \n",
       "2     3                     Old Ebbitt Grill  29104017.0             33   \n",
       "3     4  LAVO Italian Restaurant & Nightclub  26916180.0             90   \n",
       "4     5             Bryant Park Grill & Cafe  26900000.0             62   \n",
       "\n",
       "         City State  Meals Served  \n",
       "0    New York  N.Y.      469803.0  \n",
       "1    Orlando   Fla.      820819.0  \n",
       "2  Washington  D.C.      892830.0  \n",
       "3    New York  N.Y.      198500.0  \n",
       "4    New York  N.Y.      403000.0  "
      ],
      "text/html": "<div>\n<style scoped>\n    .dataframe tbody tr th:only-of-type {\n        vertical-align: middle;\n    }\n\n    .dataframe tbody tr th {\n        vertical-align: top;\n    }\n\n    .dataframe thead th {\n        text-align: right;\n    }\n</style>\n<table border=\"1\" class=\"dataframe\">\n  <thead>\n    <tr style=\"text-align: right;\">\n      <th></th>\n      <th>Rank</th>\n      <th>Restaurant</th>\n      <th>Sales</th>\n      <th>Average Check</th>\n      <th>City</th>\n      <th>State</th>\n      <th>Meals Served</th>\n    </tr>\n  </thead>\n  <tbody>\n    <tr>\n      <th>0</th>\n      <td>1</td>\n      <td>Carmine's (Times Square)</td>\n      <td>39080335.0</td>\n      <td>40</td>\n      <td>New York</td>\n      <td>N.Y.</td>\n      <td>469803.0</td>\n    </tr>\n    <tr>\n      <th>1</th>\n      <td>2</td>\n      <td>The Boathouse Orlando</td>\n      <td>35218364.0</td>\n      <td>43</td>\n      <td>Orlando</td>\n      <td>Fla.</td>\n      <td>820819.0</td>\n    </tr>\n    <tr>\n      <th>2</th>\n      <td>3</td>\n      <td>Old Ebbitt Grill</td>\n      <td>29104017.0</td>\n      <td>33</td>\n      <td>Washington</td>\n      <td>D.C.</td>\n      <td>892830.0</td>\n    </tr>\n    <tr>\n      <th>3</th>\n      <td>4</td>\n      <td>LAVO Italian Restaurant &amp; Nightclub</td>\n      <td>26916180.0</td>\n      <td>90</td>\n      <td>New York</td>\n      <td>N.Y.</td>\n      <td>198500.0</td>\n    </tr>\n    <tr>\n      <th>4</th>\n      <td>5</td>\n      <td>Bryant Park Grill &amp; Cafe</td>\n      <td>26900000.0</td>\n      <td>62</td>\n      <td>New York</td>\n      <td>N.Y.</td>\n      <td>403000.0</td>\n    </tr>\n  </tbody>\n</table>\n</div>"
     },
     "metadata": {},
     "execution_count": 4
    }
   ],
   "source": [
    "#Read in Independence100 file and view dataframe \n",
    "ind100_file = \"data/Independence100.csv\"\n",
    "ind100 = pd.read_csv(ind100_file)\n",
    "ind100.head()"
   ]
  },
  {
   "source": [
    "## Transform DataFrames"
   ],
   "cell_type": "markdown",
   "metadata": {}
  },
  {
   "cell_type": "code",
   "execution_count": 5,
   "metadata": {},
   "outputs": [
    {
     "output_type": "execute_result",
     "data": {
      "text/plain": [
       "   Rank   Restaurant                  Location  Sales (in millions) YOY_Sales  \\\n",
       "0     1   Evergreens            Seattle, Wash.                   24    130.5%   \n",
       "1     2  Clean Juice           Charlotte, N.C.                   44    121.9%   \n",
       "2     3     Slapfish  Huntington Beach, Calif.                   21     81.0%   \n",
       "3     4   Clean Eatz          Wilmington, N.C.                   25     79.7%   \n",
       "4     5    Pokeworks            Irvine, Calif.                   49     77.1%   \n",
       "\n",
       "   Units YOY_Units  Unit_Volume Franchising  \n",
       "0     26    116.7%         1150          No  \n",
       "1    105     94.4%          560         Yes  \n",
       "2     21     90.9%         1370         Yes  \n",
       "3     46     58.6%          685         Yes  \n",
       "4     50     56.3%         1210         Yes  "
      ],
      "text/html": "<div>\n<style scoped>\n    .dataframe tbody tr th:only-of-type {\n        vertical-align: middle;\n    }\n\n    .dataframe tbody tr th {\n        vertical-align: top;\n    }\n\n    .dataframe thead th {\n        text-align: right;\n    }\n</style>\n<table border=\"1\" class=\"dataframe\">\n  <thead>\n    <tr style=\"text-align: right;\">\n      <th></th>\n      <th>Rank</th>\n      <th>Restaurant</th>\n      <th>Location</th>\n      <th>Sales (in millions)</th>\n      <th>YOY_Sales</th>\n      <th>Units</th>\n      <th>YOY_Units</th>\n      <th>Unit_Volume</th>\n      <th>Franchising</th>\n    </tr>\n  </thead>\n  <tbody>\n    <tr>\n      <th>0</th>\n      <td>1</td>\n      <td>Evergreens</td>\n      <td>Seattle, Wash.</td>\n      <td>24</td>\n      <td>130.5%</td>\n      <td>26</td>\n      <td>116.7%</td>\n      <td>1150</td>\n      <td>No</td>\n    </tr>\n    <tr>\n      <th>1</th>\n      <td>2</td>\n      <td>Clean Juice</td>\n      <td>Charlotte, N.C.</td>\n      <td>44</td>\n      <td>121.9%</td>\n      <td>105</td>\n      <td>94.4%</td>\n      <td>560</td>\n      <td>Yes</td>\n    </tr>\n    <tr>\n      <th>2</th>\n      <td>3</td>\n      <td>Slapfish</td>\n      <td>Huntington Beach, Calif.</td>\n      <td>21</td>\n      <td>81.0%</td>\n      <td>21</td>\n      <td>90.9%</td>\n      <td>1370</td>\n      <td>Yes</td>\n    </tr>\n    <tr>\n      <th>3</th>\n      <td>4</td>\n      <td>Clean Eatz</td>\n      <td>Wilmington, N.C.</td>\n      <td>25</td>\n      <td>79.7%</td>\n      <td>46</td>\n      <td>58.6%</td>\n      <td>685</td>\n      <td>Yes</td>\n    </tr>\n    <tr>\n      <th>4</th>\n      <td>5</td>\n      <td>Pokeworks</td>\n      <td>Irvine, Calif.</td>\n      <td>49</td>\n      <td>77.1%</td>\n      <td>50</td>\n      <td>56.3%</td>\n      <td>1210</td>\n      <td>Yes</td>\n    </tr>\n  </tbody>\n</table>\n</div>"
     },
     "metadata": {},
     "execution_count": 5
    }
   ],
   "source": [
    "#Rename sales columns in future50\n",
    "future50 = future50.rename(columns={\"Sales\":\"Sales (in millions)\"})\n",
    "future50.head()"
   ]
  },
  {
   "cell_type": "code",
   "execution_count": 6,
   "metadata": {},
   "outputs": [
    {
     "output_type": "execute_result",
     "data": {
      "text/plain": [
       "   Rank   Restaurant                                            Content  \\\n",
       "0     1   McDonald's                                                NaN   \n",
       "1     2    Starbucks                                                NaN   \n",
       "2     3  Chick-fil-A  While Popeyes got a lot of the chicken buzz in...   \n",
       "3     4    Taco Bell                                                NaN   \n",
       "4     5  Burger King                                                NaN   \n",
       "\n",
       "   Sales (in millions) YOY_Sales  Units YOY_Units Headquarters  \\\n",
       "0                40412      4.9%  13846     -0.5%          NaN   \n",
       "1                21380      8.6%  15049      3.0%          NaN   \n",
       "2                11320     13.0%   2470      5.0%          NaN   \n",
       "3                11293      9.0%   6766      2.7%          NaN   \n",
       "4                10204      2.7%   7346      0.2%          NaN   \n",
       "\n",
       "              Segment_Category  \n",
       "0       Quick Service & Burger  \n",
       "1  Quick Service & Coffee Cafe  \n",
       "2      Quick Service & Chicken  \n",
       "3      Quick Service & Mexican  \n",
       "4       Quick Service & Burger  "
      ],
      "text/html": "<div>\n<style scoped>\n    .dataframe tbody tr th:only-of-type {\n        vertical-align: middle;\n    }\n\n    .dataframe tbody tr th {\n        vertical-align: top;\n    }\n\n    .dataframe thead th {\n        text-align: right;\n    }\n</style>\n<table border=\"1\" class=\"dataframe\">\n  <thead>\n    <tr style=\"text-align: right;\">\n      <th></th>\n      <th>Rank</th>\n      <th>Restaurant</th>\n      <th>Content</th>\n      <th>Sales (in millions)</th>\n      <th>YOY_Sales</th>\n      <th>Units</th>\n      <th>YOY_Units</th>\n      <th>Headquarters</th>\n      <th>Segment_Category</th>\n    </tr>\n  </thead>\n  <tbody>\n    <tr>\n      <th>0</th>\n      <td>1</td>\n      <td>McDonald's</td>\n      <td>NaN</td>\n      <td>40412</td>\n      <td>4.9%</td>\n      <td>13846</td>\n      <td>-0.5%</td>\n      <td>NaN</td>\n      <td>Quick Service &amp; Burger</td>\n    </tr>\n    <tr>\n      <th>1</th>\n      <td>2</td>\n      <td>Starbucks</td>\n      <td>NaN</td>\n      <td>21380</td>\n      <td>8.6%</td>\n      <td>15049</td>\n      <td>3.0%</td>\n      <td>NaN</td>\n      <td>Quick Service &amp; Coffee Cafe</td>\n    </tr>\n    <tr>\n      <th>2</th>\n      <td>3</td>\n      <td>Chick-fil-A</td>\n      <td>While Popeyes got a lot of the chicken buzz in...</td>\n      <td>11320</td>\n      <td>13.0%</td>\n      <td>2470</td>\n      <td>5.0%</td>\n      <td>NaN</td>\n      <td>Quick Service &amp; Chicken</td>\n    </tr>\n    <tr>\n      <th>3</th>\n      <td>4</td>\n      <td>Taco Bell</td>\n      <td>NaN</td>\n      <td>11293</td>\n      <td>9.0%</td>\n      <td>6766</td>\n      <td>2.7%</td>\n      <td>NaN</td>\n      <td>Quick Service &amp; Mexican</td>\n    </tr>\n    <tr>\n      <th>4</th>\n      <td>5</td>\n      <td>Burger King</td>\n      <td>NaN</td>\n      <td>10204</td>\n      <td>2.7%</td>\n      <td>7346</td>\n      <td>0.2%</td>\n      <td>NaN</td>\n      <td>Quick Service &amp; Burger</td>\n    </tr>\n  </tbody>\n</table>\n</div>"
     },
     "metadata": {},
     "execution_count": 6
    }
   ],
   "source": [
    "#Rename sales columns in top250\n",
    "top250 = top250.rename(columns={\"Sales\":\"Sales (in millions)\"})\n",
    "top250.head()"
   ]
  },
  {
   "cell_type": "code",
   "execution_count": 7,
   "metadata": {},
   "outputs": [
    {
     "output_type": "execute_result",
     "data": {
      "text/plain": [
       "   Rank                           Restaurant  Sales (in millions)  \\\n",
       "0     1             Carmine's (Times Square)            39.080335   \n",
       "1     2                The Boathouse Orlando            35.218364   \n",
       "2     3                     Old Ebbitt Grill            29.104017   \n",
       "3     4  LAVO Italian Restaurant & Nightclub            26.916180   \n",
       "4     5             Bryant Park Grill & Cafe            26.900000   \n",
       "\n",
       "   Average Check        City State  Meals Served  \n",
       "0             40    New York  N.Y.      469803.0  \n",
       "1             43    Orlando   Fla.      820819.0  \n",
       "2             33  Washington  D.C.      892830.0  \n",
       "3             90    New York  N.Y.      198500.0  \n",
       "4             62    New York  N.Y.      403000.0  "
      ],
      "text/html": "<div>\n<style scoped>\n    .dataframe tbody tr th:only-of-type {\n        vertical-align: middle;\n    }\n\n    .dataframe tbody tr th {\n        vertical-align: top;\n    }\n\n    .dataframe thead th {\n        text-align: right;\n    }\n</style>\n<table border=\"1\" class=\"dataframe\">\n  <thead>\n    <tr style=\"text-align: right;\">\n      <th></th>\n      <th>Rank</th>\n      <th>Restaurant</th>\n      <th>Sales (in millions)</th>\n      <th>Average Check</th>\n      <th>City</th>\n      <th>State</th>\n      <th>Meals Served</th>\n    </tr>\n  </thead>\n  <tbody>\n    <tr>\n      <th>0</th>\n      <td>1</td>\n      <td>Carmine's (Times Square)</td>\n      <td>39.080335</td>\n      <td>40</td>\n      <td>New York</td>\n      <td>N.Y.</td>\n      <td>469803.0</td>\n    </tr>\n    <tr>\n      <th>1</th>\n      <td>2</td>\n      <td>The Boathouse Orlando</td>\n      <td>35.218364</td>\n      <td>43</td>\n      <td>Orlando</td>\n      <td>Fla.</td>\n      <td>820819.0</td>\n    </tr>\n    <tr>\n      <th>2</th>\n      <td>3</td>\n      <td>Old Ebbitt Grill</td>\n      <td>29.104017</td>\n      <td>33</td>\n      <td>Washington</td>\n      <td>D.C.</td>\n      <td>892830.0</td>\n    </tr>\n    <tr>\n      <th>3</th>\n      <td>4</td>\n      <td>LAVO Italian Restaurant &amp; Nightclub</td>\n      <td>26.916180</td>\n      <td>90</td>\n      <td>New York</td>\n      <td>N.Y.</td>\n      <td>198500.0</td>\n    </tr>\n    <tr>\n      <th>4</th>\n      <td>5</td>\n      <td>Bryant Park Grill &amp; Cafe</td>\n      <td>26.900000</td>\n      <td>62</td>\n      <td>New York</td>\n      <td>N.Y.</td>\n      <td>403000.0</td>\n    </tr>\n  </tbody>\n</table>\n</div>"
     },
     "metadata": {},
     "execution_count": 7
    }
   ],
   "source": [
    "#Make the Sales units match across tables\n",
    "sales_mils = ind100[\"Sales\"]/1000000\n",
    "ind100[\"Sales\"] = sales_mils\n",
    "ind100 = ind100.rename(columns={\"Sales\":\"Sales (in millions)\"})\n",
    "ind100.head()"
   ]
  },
  {
   "cell_type": "code",
   "execution_count": null,
   "metadata": {},
   "outputs": [],
   "source": [
    "#Join Future50 and Ind100 on location\n",
    "\n",
    "#First, split Future50 into cities and states column\n",
    "\n",
    "#Join DFs on cities\n",
    "\n"
   ]
  },
  {
   "cell_type": "code",
   "execution_count": null,
   "metadata": {},
   "outputs": [],
   "source": [
    "#Aggregate Ind100 by summing (sales or meals) to find overall top\n",
    "\n",
    "#Grouby Restaurant, summing by (sales or meals)\n",
    "\n",
    "#Set rank to index\n",
    "\n",
    "#Reset index to show new rank"
   ]
  },
  {
   "cell_type": "code",
   "execution_count": null,
   "metadata": {},
   "outputs": [],
   "source": []
  },
  {
   "source": [
    "## Load DataFrames into Database"
   ],
   "cell_type": "markdown",
   "metadata": {}
  },
  {
   "cell_type": "code",
   "execution_count": null,
   "metadata": {},
   "outputs": [],
   "source": [
    "# Create Database Connection\n",
    "connection_string = \"postgres:postgres@localhost:5432/customer_db\"\n",
    "engine = create_engine(f'postgresql://{connection_string}')"
   ]
  },
  {
   "cell_type": "code",
   "execution_count": null,
   "metadata": {},
   "outputs": [],
   "source": [
    "# Confirm tables\n",
    "engine.table_names()"
   ]
  },
  {
   "cell_type": "code",
   "execution_count": null,
   "metadata": {},
   "outputs": [],
   "source": [
    "# Add dataframes to sql (use new ones from transformations)\n",
    "# dataframe.to_sql(name='premise', con=engine, if_exists='append', index=True)"
   ]
  },
  {
   "cell_type": "code",
   "execution_count": null,
   "metadata": {},
   "outputs": [],
   "source": []
  }
 ]
}